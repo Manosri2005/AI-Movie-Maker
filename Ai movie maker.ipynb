import pandas as pd
import matplotlib.pyplot as plt
from collections import defaultdict

def load_data(file_path):
    """Load data from Excel file"""
    return pd.read_excel(file_path)

def basic_analysis(df):
    """Perform basic data analysis"""
    print("\n=== Basic Data Analysis ===")
    print(f"Total records: {len(df)}")
    print(f"Unique users: {df['user_id'].nunique()}")
    print(f"Unique movies: {df['movie_id'].nunique()}")
    print("\nTop 5 rated movies:")
    print(df.groupby('movie_title')['rating'].mean().sort_values(ascending=False).head(5))
    print("\nRating distribution:")
    print(df['rating'].value_counts().sort_index())

def visualize_data(df):
    """Create visualizations of the data"""
    plt.figure(figsize=(15, 10))
    
    # Rating distribution
    plt.subplot(2, 2, 1)
    df['rating'].value_counts().sort_index().plot(kind='bar')
    plt.title('Rating Distribution')
    plt.xlabel('Rating')
    plt.ylabel('Count')
    
    # Genre distribution
    plt.subplot(2, 2, 2)
    df['genre'].value_counts().plot(kind='pie', autopct='%1.1f%%')
    plt.title('Genre Distribution')
    
    # Average rating by genre
    plt.subplot(2, 2, 3)
    df.groupby('genre')['rating'].mean().sort_values().plot(kind='barh')
    plt.title('Average Rating by Genre')
    plt.xlabel('Average Rating')
    
    # Age distribution of users
    plt.subplot(2, 2, 4)
    df['user_age'].plot(kind='hist', bins=20)
    plt.title('User Age Distribution')
    plt.xlabel('Age')
    
    plt.tight_layout()
    plt.show()

def build_recommendation_system(df):
    """Build a simple recommendation system"""
    # Create user profiles
    user_profiles = defaultdict(dict)
    for user_id, group in df.groupby('user_id'):
        user_profiles[user_id]['age'] = group['user_age'].iloc[0]
        user_profiles[user_id]['gender'] = group['user_gender'].iloc[0]
        user_profiles[user_id]['preferred_genres'] = group.groupby('genre')['rating'].mean().sort_values(ascending=False).index.tolist()
    
    # Create movie database
    movie_db = df.groupby('movie_id').first()[['movie_title', 'genre']]
    movie_db['avg_rating'] = df.groupby('movie_id')['rating'].mean()
    
    def recommend_movies(user_id, n=5):
        """Recommend movies for a given user"""
        if user_id not in user_profiles:
            return "User not found"
        
        profile = user_profiles[user_id]
        preferred_genres = profile['preferred_genres'][:2]  # Top 2 preferred genres
        
        # Get top rated movies in preferred genres
        recommendations = movie_db[movie_db['genre'].isin(preferred_genres)]
        recommendations = recommendations.sort_values('avg_rating', ascending=False)
        
        return recommendations.head(n)
    
    return recommend_movies

def main():
    # Load data
    file_path = "AI_Movie_Recommendations_100 (1).xlsx"
    df = load_data(file_path)
    
    # Basic analysis
    basic_analysis(df)
    
    # Visualizations
    visualize_data(df)
    
    # Build recommendation system
    recommend_movies = build_recommendation_system(df)
    
    # Example recommendations
    print("\n=== Example Recommendations ===")
    for user_id in [1, 5, 10]:
        print(f"\nRecommendations for user {user_id}:")
        print(recommend_movies(user_id))

if __name__ == "__main__":
    main()
